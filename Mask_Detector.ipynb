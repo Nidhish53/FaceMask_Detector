{
 "cells": [
  {
   "cell_type": "code",
   "execution_count": null,
   "source": [],
   "outputs": [],
   "metadata": {}
  },
  {
   "cell_type": "markdown",
   "source": [
    "# Mask Detector  "
   ],
   "metadata": {}
  },
  {
   "cell_type": "code",
   "execution_count": 5,
   "source": [
    "import cv2\r\n",
    "import os"
   ],
   "outputs": [],
   "metadata": {}
  },
  {
   "cell_type": "code",
   "execution_count": 6,
   "source": [
    "features = []\r\n",
    "target = []\r\n",
    "for i in [\"with_mask\",\"without_mask\"]:\r\n",
    "    collection_image_names = os.listdir(\"D:/data/\" + str(i))\r\n",
    "    for j in collection_image_names:\r\n",
    "        img = cv2.imread(\"D:/data/\"+  str(i) + \"/\" + j)\r\n",
    "        try:\r\n",
    "            img = cv2.resize(img,(32,32))\r\n",
    "        except:\r\n",
    "            pass\r\n",
    "        else:\r\n",
    "            features.append(img)\r\n",
    "            if i==\"WithMask\":\r\n",
    "                target.append(0)\r\n",
    "            else:\r\n",
    "                target.append(1)       \r\n",
    "    print(\"Loaded Folder \",i)"
   ],
   "outputs": [
    {
     "output_type": "stream",
     "name": "stdout",
     "text": [
      "Loaded Folder  with_mask\n",
      "Loaded Folder  without_mask\n"
     ]
    }
   ],
   "metadata": {}
  },
  {
   "cell_type": "code",
   "execution_count": 7,
   "source": [
    "import numpy as np\r\n",
    "features = np.array(features)\r\n",
    "target = np.array(target)"
   ],
   "outputs": [],
   "metadata": {}
  },
  {
   "cell_type": "code",
   "execution_count": 8,
   "source": [
    "def preprocessing(image):\r\n",
    "    image = cv2.cvtColor(image,cv2.COLOR_BGR2GRAY)\r\n",
    "    image = image/225\r\n",
    "    return image"
   ],
   "outputs": [],
   "metadata": {}
  },
  {
   "cell_type": "code",
   "execution_count": 9,
   "source": [
    "features = np.array(list(map(preprocessing,features)))"
   ],
   "outputs": [],
   "metadata": {}
  },
  {
   "cell_type": "code",
   "execution_count": 10,
   "source": [
    "\r\n",
    "from sklearn.model_selection import train_test_split\r\n",
    "train_features,test_features,train_target,test_target = train_test_split(features,target,test_size=0.2)"
   ],
   "outputs": [],
   "metadata": {}
  },
  {
   "cell_type": "code",
   "execution_count": 11,
   "source": [
    "train_features.shape"
   ],
   "outputs": [
    {
     "output_type": "execute_result",
     "data": {
      "text/plain": [
       "(6042, 32, 32)"
      ]
     },
     "metadata": {},
     "execution_count": 11
    }
   ],
   "metadata": {}
  },
  {
   "cell_type": "code",
   "execution_count": 12,
   "source": [
    "train_features = train_features.reshape(6042,32,32,1)"
   ],
   "outputs": [],
   "metadata": {}
  },
  {
   "cell_type": "code",
   "execution_count": 13,
   "source": [
    "from tensorflow.keras.preprocessing.image import ImageDataGenerator"
   ],
   "outputs": [],
   "metadata": {}
  },
  {
   "cell_type": "code",
   "execution_count": 14,
   "source": [
    "dataGen = ImageDataGenerator(rotation_range=10,width_shift_range=0.1,height_shift_range=0.1,zoom_range=0.2,shear_range=0.1)\r\n",
    "dataGen.fit(train_features)\r\n",
    "batches = dataGen.flow(train_features,train_target,batch_size=20)\r\n",
    "images,labels = next(batches)"
   ],
   "outputs": [],
   "metadata": {}
  },
  {
   "cell_type": "code",
   "execution_count": null,
   "source": [],
   "outputs": [],
   "metadata": {}
  },
  {
   "cell_type": "code",
   "execution_count": 15,
   "source": [
    "images.shape"
   ],
   "outputs": [
    {
     "output_type": "execute_result",
     "data": {
      "text/plain": [
       "(20, 32, 32, 1)"
      ]
     },
     "metadata": {},
     "execution_count": 15
    }
   ],
   "metadata": {}
  },
  {
   "cell_type": "code",
   "execution_count": 16,
   "source": [
    "images = images.reshape(20,32,32)"
   ],
   "outputs": [],
   "metadata": {}
  },
  {
   "cell_type": "code",
   "execution_count": null,
   "source": [],
   "outputs": [],
   "metadata": {}
  },
  {
   "cell_type": "code",
   "execution_count": 17,
   "source": [
    "from tensorflow.keras.utils import to_categorical\r\n",
    "train_target = to_categorical(train_target)\r\n",
    "train_target.shape"
   ],
   "outputs": [
    {
     "output_type": "execute_result",
     "data": {
      "text/plain": [
       "(6042, 2)"
      ]
     },
     "metadata": {},
     "execution_count": 17
    }
   ],
   "metadata": {}
  },
  {
   "cell_type": "markdown",
   "source": [
    "# Specifying Architecture"
   ],
   "metadata": {}
  },
  {
   "cell_type": "code",
   "execution_count": 18,
   "source": [
    "from tensorflow.keras.models import Sequential\r\n",
    "from tensorflow.keras.layers import Dense,MaxPooling2D,Conv2D,Flatten,Dropout"
   ],
   "outputs": [],
   "metadata": {}
  },
  {
   "cell_type": "code",
   "execution_count": 19,
   "source": [
    "model = Sequential()\r\n",
    "model.add(Conv2D(100, (3,3), activation='relu', input_shape = (32,32,1)))\r\n",
    "model.add(MaxPooling2D(2,2))\r\n",
    "model.add(Conv2D(30,(3,3),activation=\"relu\"))\r\n",
    "model.add(MaxPooling2D(2,2))\r\n",
    "model.add(Flatten())\r\n",
    "model.add(Dropout(0.5))\r\n",
    "model.add(Dense(500,activation=\"relu\"))\r\n",
    "model.add(Dense(2,activation=\"softmax\"))"
   ],
   "outputs": [],
   "metadata": {}
  },
  {
   "cell_type": "markdown",
   "source": [
    "# Step 2: Compling the model"
   ],
   "metadata": {}
  },
  {
   "cell_type": "code",
   "execution_count": 20,
   "source": [
    "from tensorflow.keras.optimizers import Adam\r\n",
    "model.compile(Adam(learning_rate=0.001),loss = \"categorical_crossentropy\",metrics=[\"accuracy\"])"
   ],
   "outputs": [],
   "metadata": {}
  },
  {
   "cell_type": "code",
   "execution_count": null,
   "source": [
    "\r\n",
    "model.fit(train_features,train_target,epochs=20,validation_split = 0.2)"
   ],
   "outputs": [
    {
     "output_type": "stream",
     "name": "stdout",
     "text": [
      "Epoch 1/20\n",
      "152/152 [==============================] - 8s 48ms/step - loss: 0.0058 - accuracy: 0.9988 - val_loss: 0.0000e+00 - val_accuracy: 1.0000\n",
      "Epoch 2/20\n",
      "152/152 [==============================] - 7s 47ms/step - loss: 0.0000e+00 - accuracy: 1.0000 - val_loss: 0.0000e+00 - val_accuracy: 1.0000\n",
      "Epoch 3/20\n",
      "152/152 [==============================] - 7s 47ms/step - loss: 0.0000e+00 - accuracy: 1.0000 - val_loss: 0.0000e+00 - val_accuracy: 1.0000\n",
      "Epoch 4/20\n",
      "152/152 [==============================] - 7s 46ms/step - loss: 0.0000e+00 - accuracy: 1.0000 - val_loss: 0.0000e+00 - val_accuracy: 1.0000\n",
      "Epoch 5/20\n",
      "152/152 [==============================] - 7s 47ms/step - loss: 0.0000e+00 - accuracy: 1.0000 - val_loss: 0.0000e+00 - val_accuracy: 1.0000\n",
      "Epoch 6/20\n",
      "152/152 [==============================] - 7s 47ms/step - loss: 0.0000e+00 - accuracy: 1.0000 - val_loss: 0.0000e+00 - val_accuracy: 1.0000\n",
      "Epoch 7/20\n",
      "152/152 [==============================] - 8s 53ms/step - loss: 0.0000e+00 - accuracy: 1.0000 - val_loss: 0.0000e+00 - val_accuracy: 1.0000\n",
      "Epoch 8/20\n",
      "152/152 [==============================] - 9s 57ms/step - loss: 0.0000e+00 - accuracy: 1.0000 - val_loss: 0.0000e+00 - val_accuracy: 1.0000\n",
      "Epoch 9/20\n",
      "152/152 [==============================] - 7s 49ms/step - loss: 0.0000e+00 - accuracy: 1.0000 - val_loss: 0.0000e+00 - val_accuracy: 1.0000\n",
      "Epoch 10/20\n",
      "152/152 [==============================] - 7s 47ms/step - loss: 0.0000e+00 - accuracy: 1.0000 - val_loss: 0.0000e+00 - val_accuracy: 1.0000\n",
      "Epoch 11/20\n",
      "143/152 [===========================>..] - ETA: 0s - loss: 0.0000e+00 - accuracy: 1.0000"
     ]
    }
   ],
   "metadata": {}
  },
  {
   "cell_type": "markdown",
   "source": [
    "# Step 3: Train the Model"
   ],
   "metadata": {}
  },
  {
   "cell_type": "code",
   "execution_count": 3,
   "source": [
    "\r\n",
    "location = \"C:/Users/Nidhish/Downloads/AI/\""
   ],
   "outputs": [],
   "metadata": {}
  },
  {
   "cell_type": "code",
   "execution_count": 4,
   "source": [
    "\r\n",
    "ModelInJson = model.to_json()\r\n",
    "abc = open(location + \"model_mask_detector2.json\",\"w\")\r\n",
    "abc.write(ModelInJson)\r\n",
    "\r\n",
    "model.save_weights(location + \"model_mask_detector2_weights.h5\")"
   ],
   "outputs": [
    {
     "output_type": "error",
     "ename": "NameError",
     "evalue": "name 'model' is not defined",
     "traceback": [
      "\u001b[1;31m---------------------------------------------------------------------------\u001b[0m",
      "\u001b[1;31mNameError\u001b[0m                                 Traceback (most recent call last)",
      "\u001b[1;32m<ipython-input-4-80a704cf2fe0>\u001b[0m in \u001b[0;36m<module>\u001b[1;34m\u001b[0m\n\u001b[1;32m----> 1\u001b[1;33m \u001b[0mModelInJson\u001b[0m \u001b[1;33m=\u001b[0m \u001b[0mmodel\u001b[0m\u001b[1;33m.\u001b[0m\u001b[0mto_json\u001b[0m\u001b[1;33m(\u001b[0m\u001b[1;33m)\u001b[0m\u001b[1;33m\u001b[0m\u001b[1;33m\u001b[0m\u001b[0m\n\u001b[0m\u001b[0;32m      2\u001b[0m \u001b[0mabc\u001b[0m \u001b[1;33m=\u001b[0m \u001b[0mopen\u001b[0m\u001b[1;33m(\u001b[0m\u001b[0mlocation\u001b[0m \u001b[1;33m+\u001b[0m \u001b[1;34m\"model_mask_detector2.json\"\u001b[0m\u001b[1;33m,\u001b[0m\u001b[1;34m\"w\"\u001b[0m\u001b[1;33m)\u001b[0m\u001b[1;33m\u001b[0m\u001b[1;33m\u001b[0m\u001b[0m\n\u001b[0;32m      3\u001b[0m \u001b[0mabc\u001b[0m\u001b[1;33m.\u001b[0m\u001b[0mwrite\u001b[0m\u001b[1;33m(\u001b[0m\u001b[0mModelInJson\u001b[0m\u001b[1;33m)\u001b[0m\u001b[1;33m\u001b[0m\u001b[1;33m\u001b[0m\u001b[0m\n\u001b[0;32m      4\u001b[0m \u001b[1;33m\u001b[0m\u001b[0m\n\u001b[0;32m      5\u001b[0m \u001b[0mmodel\u001b[0m\u001b[1;33m.\u001b[0m\u001b[0msave_weights\u001b[0m\u001b[1;33m(\u001b[0m\u001b[0mlocation\u001b[0m \u001b[1;33m+\u001b[0m \u001b[1;34m\"model_mask_detector2_weights.h5\"\u001b[0m\u001b[1;33m)\u001b[0m\u001b[1;33m\u001b[0m\u001b[1;33m\u001b[0m\u001b[0m\n",
      "\u001b[1;31mNameError\u001b[0m: name 'model' is not defined"
     ]
    }
   ],
   "metadata": {}
  },
  {
   "cell_type": "code",
   "execution_count": 28,
   "source": [
    "from tensorflow.keras.models import model_from_json\r\n",
    "abc = open(location + \"model_mask_detector2.json\",\"r\")\r\n",
    "loaded_data = abc.read()\r\n",
    "loaded_model = model_from_json(loaded_data)\r\n",
    "loaded_model.load_weights(location + \"model_mask_detector2_weights.h5\")"
   ],
   "outputs": [],
   "metadata": {}
  },
  {
   "cell_type": "markdown",
   "source": [
    "# Step 4: Testing Model"
   ],
   "metadata": {}
  },
  {
   "cell_type": "code",
   "execution_count": 1,
   "source": [
    "def getClassName(classNo):\r\n",
    "    if classNo == 0:    return \"YES\"\r\n",
    "    elif classNo == 1:  return \"NO\""
   ],
   "outputs": [],
   "metadata": {}
  },
  {
   "cell_type": "code",
   "execution_count": null,
   "source": [
    "from tensorflow.keras.models import load_model\r\n",
    "import cv2\r\n",
    "import numpy as np "
   ],
   "outputs": [],
   "metadata": {}
  },
  {
   "cell_type": "code",
   "execution_count": null,
   "source": [
    "capt=cv2.VideoCapture(0)\r\n",
    "capt.set(3,640)\r\n",
    "capt.set(4,480)\r\n",
    "capt.set(10,180)"
   ],
   "outputs": [],
   "metadata": {}
  },
  {
   "cell_type": "code",
   "execution_count": null,
   "source": [
    "def preprocessing(image):\r\n",
    "    image = cv2.cvtColor(image,cv2.COLOR_BGR2GRAY)\r\n",
    "    image = image/225\r\n",
    "    return image"
   ],
   "outputs": [],
   "metadata": {}
  },
  {
   "cell_type": "code",
   "execution_count": null,
   "source": [
    "while True:\r\n",
    "    message,image=capt.read()\r\n",
    "    imagearr=np.asarray(image)\r\n",
    "    imagearr=cv2.resize(imagearr,(32,32))\r\n",
    "    imagearr=preprocessing(imagearr)\r\n",
    "    imagearr=imagearr.reshape(1,32,32,1)\r\n",
    "    predictions=loaded_model.predict(imagearr)\r\n",
    "    NeuronIndex=loaded_model.predict_classes(imagearr)\r\n",
    "    cv2.putText(image,\"Class: \",(20,35),cv2.FONT_HERSHEY_COMPLEX,1,(0,0,225),2)\r\n",
    "    cv2.putText(image,\"Probablity: \",(20,75),cv2.FONT_HERSHEY_COMPLEX,1,(0,0,225),2)\r\n",
    "    ProbablityValue = np.amax(predictions)\r\n",
    "    if ProbablityValue > 0.25:\r\n",
    "        cv2.putText(image,getClassname(NeuronIndex),(120,35),cv2.FONT_HERSHEY_COMPLEX,1,(0,0,225),2)\r\n",
    "        cv2.putText(image,str(int(ProbablityValue*100)) + \"%\",(200,75),cv2.FONT_HERSHEY_COMPLEX,1,(0,0,225),2)\r\n",
    "    cv2.imshow(\"Mask Detector\",cv2.resize(image,(1600,960),interpolation = cv2.INTER_CUBIC))\r\n",
    "    if cv2.waitKey(1) & 0xFF == ord('q'):\r\n",
    "        break\r\n",
    "\r\n",
    "capt.release()\r\n",
    "cv2.destroyAllWindows()"
   ],
   "outputs": [],
   "metadata": {}
  },
  {
   "cell_type": "code",
   "execution_count": 2,
   "source": [
    "\r\n",
    "from tensorflow.keras.models import load_model\r\n",
    "import cv2\r\n",
    "import numpy as np\r\n",
    "\r\n",
    "cv2.ocl.setUseOpenCL(False)\r\n",
    "\r\n",
    "capt = cv2.VideoCapture(0)\r\n",
    "\r\n",
    "\r\n",
    "while True:\r\n",
    "    msg,image = capt.read()\r\n",
    "    face_cascade = cv2.CascadeClassifier(\"C:/Users/Nidhish/Downloads/AI/\" + \"haarcascade_frontalface_default.xml\")\r\n",
    "    gray = cv2.cvtColor(image,cv2.COLOR_BGR2GRAY)\r\n",
    "    faces = face_cascade.detectMultiScale(gray,scaleFactor = 1.3,minNeighbors = 5)\r\n",
    "    \r\n",
    "    for (x,y,w,h) in faces:\r\n",
    "        cv2.rectangle(image,(x,y-50),(x+w, y+h+10), (255,0,0),2)\r\n",
    "        face_image = gray[y:y+h, x:x+w]\r\n",
    "        resize = cv2.resize(face_image,(32,32))\r\n",
    "        normalized = resize/225.0\r\n",
    "        reshaped = np.reshape(normalized,(1,32,32,1))\r\n",
    "        prediction = loaded_model.predict(reshaped)\r\n",
    "        neuron_index = loaded_model.predict_classes(reshaped)\r\n",
    "        \r\n",
    "        cv2.putText(image,\"Mask: \",(20,35),cv2.FONT_HERSHEY_COMPLEX,1,(0,0,225),2)\r\n",
    "        cv2.putText(image,\"Probablity: \",(20,75),cv2.FONT_HERSHEY_COMPLEX,1,(0,0,225),2)\r\n",
    "        ProbabilityValue = np.amax(prediction)\r\n",
    "        if ProbabilityValue> 0.25:\r\n",
    "            cv2.putText(image,getClassName(neuron_index),(120,35),cv2.FONT_HERSHEY_COMPLEX,1,(0,0,225),2)\r\n",
    "            cv2.putText(image,str(int(ProbabilityValue*100)) + \"%\",(200,75),cv2.FONT_HERSHEY_COMPLEX,1,(0,0,225),2)\r\n",
    "    cv2.imshow('MASK DETECTOR', cv2.resize(image,(1600,960),interpolation = cv2.INTER_CUBIC))\r\n",
    "    if cv2.waitKey(1) & 0xFF == ord('q'):\r\n",
    "        break"
   ],
   "outputs": [
    {
     "output_type": "error",
     "ename": "error",
     "evalue": "OpenCV(4.5.3) C:\\Users\\runneradmin\\AppData\\Local\\Temp\\pip-req-build-q3d_8t8e\\opencv\\modules\\objdetect\\src\\cascadedetect.cpp:1689: error: (-215:Assertion failed) !empty() in function 'cv::CascadeClassifier::detectMultiScale'\n",
     "traceback": [
      "\u001b[1;31m---------------------------------------------------------------------------\u001b[0m",
      "\u001b[1;31merror\u001b[0m                                     Traceback (most recent call last)",
      "\u001b[1;32m<ipython-input-2-dda82e257288>\u001b[0m in \u001b[0;36m<module>\u001b[1;34m\u001b[0m\n\u001b[0;32m     12\u001b[0m     \u001b[0mface_cascade\u001b[0m \u001b[1;33m=\u001b[0m \u001b[0mcv2\u001b[0m\u001b[1;33m.\u001b[0m\u001b[0mCascadeClassifier\u001b[0m\u001b[1;33m(\u001b[0m\u001b[1;34m\"C:/Users/Nidhish/Downloads/AI/\"\u001b[0m \u001b[1;33m+\u001b[0m \u001b[1;34m\"haarcascade_frontalface_default.xml\"\u001b[0m\u001b[1;33m)\u001b[0m\u001b[1;33m\u001b[0m\u001b[1;33m\u001b[0m\u001b[0m\n\u001b[0;32m     13\u001b[0m     \u001b[0mgray\u001b[0m \u001b[1;33m=\u001b[0m \u001b[0mcv2\u001b[0m\u001b[1;33m.\u001b[0m\u001b[0mcvtColor\u001b[0m\u001b[1;33m(\u001b[0m\u001b[0mimage\u001b[0m\u001b[1;33m,\u001b[0m\u001b[0mcv2\u001b[0m\u001b[1;33m.\u001b[0m\u001b[0mCOLOR_BGR2GRAY\u001b[0m\u001b[1;33m)\u001b[0m\u001b[1;33m\u001b[0m\u001b[1;33m\u001b[0m\u001b[0m\n\u001b[1;32m---> 14\u001b[1;33m     \u001b[0mfaces\u001b[0m \u001b[1;33m=\u001b[0m \u001b[0mface_cascade\u001b[0m\u001b[1;33m.\u001b[0m\u001b[0mdetectMultiScale\u001b[0m\u001b[1;33m(\u001b[0m\u001b[0mgray\u001b[0m\u001b[1;33m,\u001b[0m\u001b[0mscaleFactor\u001b[0m \u001b[1;33m=\u001b[0m \u001b[1;36m1.3\u001b[0m\u001b[1;33m,\u001b[0m\u001b[0mminNeighbors\u001b[0m \u001b[1;33m=\u001b[0m \u001b[1;36m5\u001b[0m\u001b[1;33m)\u001b[0m\u001b[1;33m\u001b[0m\u001b[1;33m\u001b[0m\u001b[0m\n\u001b[0m\u001b[0;32m     15\u001b[0m \u001b[1;33m\u001b[0m\u001b[0m\n\u001b[0;32m     16\u001b[0m     \u001b[1;32mfor\u001b[0m \u001b[1;33m(\u001b[0m\u001b[0mx\u001b[0m\u001b[1;33m,\u001b[0m\u001b[0my\u001b[0m\u001b[1;33m,\u001b[0m\u001b[0mw\u001b[0m\u001b[1;33m,\u001b[0m\u001b[0mh\u001b[0m\u001b[1;33m)\u001b[0m \u001b[1;32min\u001b[0m \u001b[0mfaces\u001b[0m\u001b[1;33m:\u001b[0m\u001b[1;33m\u001b[0m\u001b[1;33m\u001b[0m\u001b[0m\n",
      "\u001b[1;31merror\u001b[0m: OpenCV(4.5.3) C:\\Users\\runneradmin\\AppData\\Local\\Temp\\pip-req-build-q3d_8t8e\\opencv\\modules\\objdetect\\src\\cascadedetect.cpp:1689: error: (-215:Assertion failed) !empty() in function 'cv::CascadeClassifier::detectMultiScale'\n"
     ]
    }
   ],
   "metadata": {}
  },
  {
   "cell_type": "code",
   "execution_count": null,
   "source": [],
   "outputs": [],
   "metadata": {}
  }
 ],
 "metadata": {
  "kernelspec": {
   "display_name": "Python 3",
   "language": "python",
   "name": "python3"
  },
  "language_info": {
   "codemirror_mode": {
    "name": "ipython",
    "version": 3
   },
   "file_extension": ".py",
   "mimetype": "text/x-python",
   "name": "python",
   "nbconvert_exporter": "python",
   "pygments_lexer": "ipython3",
   "version": "3.8.5"
  }
 },
 "nbformat": 4,
 "nbformat_minor": 4
}